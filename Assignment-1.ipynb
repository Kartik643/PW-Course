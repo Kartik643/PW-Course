{
 "cells": [
  {
   "cell_type": "markdown",
   "id": "3ee8bcb8-885e-47d2-9695-0d558a2835f5",
   "metadata": {},
   "source": [
    "Q1. Create one variable containing following type of data:\n",
    "(i) string\n",
    "(ii) list\n",
    "(iii) float\n",
    "(iv) tuple\n"
   ]
  },
  {
   "cell_type": "code",
   "execution_count": 12,
   "id": "a06cdeaf-0f17-4ef1-822c-8793c4a8764f",
   "metadata": {},
   "outputs": [
    {
     "name": "stdout",
     "output_type": "stream",
     "text": [
      "Kartik Parsodkar\n",
      "[1, 2, 3, 'kartik', 'sujit', 'parsodkar']\n",
      "3.14\n",
      "(1, 2, 3, 4, 5)\n"
     ]
    }
   ],
   "source": [
    "name = \"Kartik Parsodkar\"    #String variable\n",
    "print(name)\n",
    "\n",
    "list = [1,2,3,'kartik', 'sujit', 'parsodkar']  #List variable\n",
    "print(list)\n",
    "\n",
    "my_float = 3.14\n",
    "print(my_float)\n",
    "\n",
    "my_tuple = (1, 2, 3, 4, 5)\n",
    "print(my_tuple)"
   ]
  },
  {
   "cell_type": "markdown",
   "id": "7758e6a6-d422-4b90-a484-16c1960d0feb",
   "metadata": {},
   "source": [
    "Q2. Given are some following variables containing data:\n",
    "What will be the data type of the above given variable.\n",
    "\n",
    "(i) var1 = ‘ ‘\n",
    "ans: Data type of var1 will be String.\n",
    "\n",
    "(ii) var2 = ‘[ DS , ML , Python]’\n",
    "ans: Data type of var2 will be String.\n",
    "\n",
    "(iii) var3 = [ ‘DS’ , ’ML’ , ‘Python’ ]\n",
    "ans: Data type of var3 will be List.\n",
    "\n",
    "(iv) var4 = 1.\n",
    "ans: Data type of var4 will be Integer.\n",
    "\n"
   ]
  },
  {
   "cell_type": "markdown",
   "id": "6b4ae5aa-b7ac-4741-897c-545388ca25a9",
   "metadata": {},
   "source": [
    "Q3. Explain the use of the following operators using an example:\n",
    "(i) /\n",
    "(ii) %\n",
    "(iii) //\n",
    "(iv) **"
   ]
  },
  {
   "cell_type": "code",
   "execution_count": 21,
   "id": "52e8410d-b2f9-4c0c-bc3b-e202ee982e08",
   "metadata": {},
   "outputs": [
    {
     "name": "stdout",
     "output_type": "stream",
     "text": [
      "3.3333333333333335\n"
     ]
    }
   ],
   "source": [
    "#(i)/ : This is a division operator. It divides one number from another also this operator can return floating result '''\n",
    "a = 10\n",
    "b = 3\n",
    "result = a/b\n",
    "print(result)\n",
    "\n",
    "#In this example in result variable the result of 10/3 will be stored and the result will be printed using print()"
   ]
  },
  {
   "cell_type": "code",
   "execution_count": 23,
   "id": "3fd19a8d-ebdb-4ff1-82a4-aba70d80708a",
   "metadata": {},
   "outputs": [
    {
     "name": "stdout",
     "output_type": "stream",
     "text": [
      "1\n"
     ]
    }
   ],
   "source": [
    "'''(ii) % : This is a Modulus Operator, It returns the remainder of the division between 2 numbers.\n",
    "It is also used in checking divisibility or extract remainder'''\n",
    "a = 10\n",
    "b = 3\n",
    "result = a%b\n",
    "print(result)"
   ]
  },
  {
   "cell_type": "code",
   "execution_count": 25,
   "id": "7d32c348-e225-4c12-ad9d-43132e71564f",
   "metadata": {},
   "outputs": [
    {
     "name": "stdout",
     "output_type": "stream",
     "text": [
      "3\n"
     ]
    }
   ],
   "source": [
    "'''(iii) // : This is a floor division operator. It is similar to a division operator but it rounds the result in \n",
    "the nearset whole number'''\n",
    "a = 10\n",
    "b = 3\n",
    "result = a//b\n",
    "print(result)\n",
    "\n",
    "#Here the answer of 10/3 will be 3.3333 but it will return only 3 which is rounded-off"
   ]
  },
  {
   "cell_type": "code",
   "execution_count": 27,
   "id": "ae196380-94f9-4348-b424-117f4e03abb5",
   "metadata": {},
   "outputs": [
    {
     "name": "stdout",
     "output_type": "stream",
     "text": [
      "8\n"
     ]
    }
   ],
   "source": [
    "'''(iv) ** : This is a Expotential Operator. It is used to raise a number to the power of another number.\n",
    "It calculatesd the expotential of the left operand by right operand'''\n",
    "\n",
    "a = 2\n",
    "b = 3\n",
    "result = a**b\n",
    "print(result)"
   ]
  },
  {
   "cell_type": "code",
   "execution_count": null,
   "id": "dc732fa6-2e79-46d6-92af-e19bf5558f4c",
   "metadata": {},
   "outputs": [],
   "source": []
  },
  {
   "cell_type": "code",
   "execution_count": null,
   "id": "1c8eaa33-f371-492d-a9c7-0f40d6bf2fe3",
   "metadata": {},
   "outputs": [],
   "source": []
  },
  {
   "cell_type": "code",
   "execution_count": 31,
   "id": "aa0c06cc-8eda-4e10-84bc-1ee973c09576",
   "metadata": {},
   "outputs": [
    {
     "name": "stdout",
     "output_type": "stream",
     "text": [
      "1 <class 'int'>\n",
      "2 <class 'int'>\n",
      "3 <class 'int'>\n",
      "True <class 'bool'>\n",
      "Kartik <class 'str'>\n",
      "Parsodkar <class 'str'>\n",
      "3.14 <class 'float'>\n",
      "False <class 'bool'>\n",
      "Data Science <class 'str'>\n",
      "10 <class 'int'>\n"
     ]
    }
   ],
   "source": [
    "'''Q4. Create a list of length 10 of your choice containing multiple types of data. Using for loop print the\n",
    "element and its data type.'''\n",
    "\n",
    "my_list = [1,2,3,True,\"Kartik\", \"Parsodkar\", 3.14, False, \"Data Science\", 10]\n",
    "\n",
    "for i in my_list:\n",
    "    print(i , type(i))"
   ]
  },
  {
   "cell_type": "code",
   "execution_count": null,
   "id": "27826e6d-18fb-472b-b925-d852602525d9",
   "metadata": {},
   "outputs": [],
   "source": []
  },
  {
   "cell_type": "code",
   "execution_count": 35,
   "id": "b8ff2f41-3d38-4fa1-b24e-4294c1e52849",
   "metadata": {},
   "outputs": [
    {
     "name": "stdout",
     "output_type": "stream",
     "text": [
      "2\n"
     ]
    }
   ],
   "source": [
    "'''Using a while loop, verify if the number A is purely divisible by number B and if so then how many\n",
    "times it can be divisible.'''\n",
    "\n",
    "A = 100\n",
    "B = 5\n",
    "\n",
    "division = 0\n",
    "\n",
    "while A%B == 0:\n",
    "    A = A/B\n",
    "    division += 1\n",
    "print(division)    \n"
   ]
  },
  {
   "cell_type": "code",
   "execution_count": null,
   "id": "30c24f8a-a658-4618-8382-85a73dca3809",
   "metadata": {},
   "outputs": [],
   "source": []
  },
  {
   "cell_type": "code",
   "execution_count": 38,
   "id": "855dcc4e-7082-40d8-8332-38188bb47fdf",
   "metadata": {},
   "outputs": [
    {
     "name": "stdout",
     "output_type": "stream",
     "text": [
      "6 is divisible by 3\n",
      "9 is divisible by 3\n",
      "12 is divisible by 3\n",
      "15 is divisible by 3\n",
      "18 is divisible by 3\n",
      "21 is divisible by 3\n",
      "24 is divisible by 3\n"
     ]
    }
   ],
   "source": [
    "'''Q6. Create a list containing 25 int type data. Using for loop and if-else condition print if the element is\n",
    "divisible by 3 or not.'''\n",
    "\n",
    "my_list = [1,2,2,4,5,6,7,8,9,10,11,12,13,14,15,16,17,18,19,20,21,22,23,24,25]\n",
    "\n",
    "for i in my_list:\n",
    "    if(i%3 == 0):\n",
    "        print(i, \"is divisible by 3\")\n",
    "    else:\n",
    "        continue"
   ]
  },
  {
   "cell_type": "code",
   "execution_count": null,
   "id": "4a58a68a-b61e-4927-9a74-47f0faf2b415",
   "metadata": {},
   "outputs": [],
   "source": []
  },
  {
   "cell_type": "code",
   "execution_count": 40,
   "id": "772fd15a-72c8-491d-978d-1adcdb2b9327",
   "metadata": {},
   "outputs": [
    {
     "name": "stdout",
     "output_type": "stream",
     "text": [
      "10\n",
      "5\n",
      "Hello, World!\n"
     ]
    },
    {
     "ename": "TypeError",
     "evalue": "'str' object does not support item assignment",
     "output_type": "error",
     "traceback": [
      "\u001b[0;31m---------------------------------------------------------------------------\u001b[0m",
      "\u001b[0;31mTypeError\u001b[0m                                 Traceback (most recent call last)",
      "Cell \u001b[0;32mIn[40], line 24\u001b[0m\n\u001b[1;32m     21\u001b[0m \u001b[38;5;28mprint\u001b[39m(message)  \u001b[38;5;66;03m# Output: Hello, World!\u001b[39;00m\n\u001b[1;32m     23\u001b[0m \u001b[38;5;66;03m# Attempting to modify the string\u001b[39;00m\n\u001b[0;32m---> 24\u001b[0m \u001b[43mmessage\u001b[49m\u001b[43m[\u001b[49m\u001b[38;5;241;43m0\u001b[39;49m\u001b[43m]\u001b[49m \u001b[38;5;241m=\u001b[39m \u001b[38;5;124m'\u001b[39m\u001b[38;5;124mh\u001b[39m\u001b[38;5;124m'\u001b[39m  \u001b[38;5;66;03m# Raises a TypeError: 'str' object does not support item assignment\u001b[39;00m\n",
      "\u001b[0;31mTypeError\u001b[0m: 'str' object does not support item assignment"
     ]
    }
   ],
   "source": [
    "'''What do you understand about mutable and immutable data types? Give examples for both showing\n",
    "this property.'''\n",
    "\n",
    "'''Immutable Datatypes: Data types classified as immutable are those whose values cannot be altered after creation.\n",
    "An immutable object creates a new object with the modified value whenever it is modified. \n",
    "In Python, immutable data types include floats, strings, tuples, and integers.\n",
    "'''\n",
    "\n",
    "message = \"Hello, World!\"\n",
    "print(message)  # Output: Hello, World!\n",
    "\n",
    "# Attempting to modify the string\n",
    "message[0] = 'h'  #This will throw an error\n",
    "\n",
    "'''Mutable Datatypes: mutable data types are those whose values can be updated after they are generated, or in-place modifications.\n",
    "In Python, mutable data types include dictionaries, sets, and list.'''\n",
    "\n"
   ]
  }
 ],
 "metadata": {
  "kernelspec": {
   "display_name": "Python 3 (ipykernel)",
   "language": "python",
   "name": "python3"
  },
  "language_info": {
   "codemirror_mode": {
    "name": "ipython",
    "version": 3
   },
   "file_extension": ".py",
   "mimetype": "text/x-python",
   "name": "python",
   "nbconvert_exporter": "python",
   "pygments_lexer": "ipython3",
   "version": "3.10.8"
  }
 },
 "nbformat": 4,
 "nbformat_minor": 5
}
