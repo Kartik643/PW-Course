{
 "cells": [
  {
   "cell_type": "code",
   "execution_count": 3,
   "id": "04c2b963-efb4-421b-9817-0738377b6a7c",
   "metadata": {},
   "outputs": [],
   "source": [
    "import pandas as pd"
   ]
  },
  {
   "cell_type": "code",
   "execution_count": 9,
   "id": "11eb869e-77ba-4506-9f17-20b8d7ad367e",
   "metadata": {},
   "outputs": [
    {
     "name": "stdout",
     "output_type": "stream",
     "text": [
      "0     4\n",
      "1     8\n",
      "2    15\n",
      "3    16\n",
      "4    23\n",
      "5    42\n",
      "dtype: int64\n"
     ]
    }
   ],
   "source": [
    "# Q1. Create a Pandas Series that contains the following data: 4, 8, 15, 16, 23, and 42. Then, print the series.\n",
    "\n",
    "data = [4,8,15,16,23,42]\n",
    "series = pd.Series(data)\n",
    "print(series)"
   ]
  },
  {
   "cell_type": "code",
   "execution_count": 11,
   "id": "97583f9c-97ff-4455-8fc0-61697bed14ec",
   "metadata": {},
   "outputs": [
    {
     "name": "stdout",
     "output_type": "stream",
     "text": [
      "0     1\n",
      "1     2\n",
      "2     3\n",
      "3     4\n",
      "4     5\n",
      "5     6\n",
      "6     7\n",
      "7     8\n",
      "8     9\n",
      "9    10\n",
      "dtype: int64\n"
     ]
    }
   ],
   "source": [
    "# Q2. Create a variable of list type containing 10 elements in it, and apply pandas.Series function on the variable print it.\n",
    "l1 = [1,2,3,4,5,6,7,8,9,10]\n",
    "S1 = pd.Series(l1)\n",
    "print(S1)"
   ]
  },
  {
   "cell_type": "code",
   "execution_count": 13,
   "id": "ec3215e2-9d42-46bc-81b1-59a322c6a56e",
   "metadata": {},
   "outputs": [
    {
     "name": "stdout",
     "output_type": "stream",
     "text": [
      "     Name  Age  Gender\n",
      "0   Alice   25  Female\n",
      "1     Bob   30    Male\n",
      "2  Claire   27  Female\n"
     ]
    }
   ],
   "source": [
    "# Q3. Create a Pandas DataFrame that contains the following data:\n",
    "data = {\n",
    "    'Name' : ['Alice', 'Bob', 'Claire'],\n",
    "    'Age' : [25,30,27],\n",
    "    'Gender' : ['Female','Male', 'Female']\n",
    "}\n",
    "\n",
    "A = pd.DataFrame(data)\n",
    "print(A)"
   ]
  },
  {
   "cell_type": "markdown",
   "id": "f84b1630-198c-45c0-8339-c14ccf8247aa",
   "metadata": {},
   "source": [
    "# Q4. What is ‘DataFrame’ in pandas and how is it different from pandas.series? Explain with an example.\n",
    "DataFrame: A two-dimensional labeled data structure in Pandas that holds data in a tabular form with rows and columns. Each column represents a different variable, and each row represents an observation. DataFrames are versatile and used for data manipulation, analysis, and cleaning.\n",
    "\n",
    "Series: A one-dimensional labeled array in Pandas that can hold data of a single data type. It represents a single column of data with an associated index for labeling each element. Series are the building blocks of DataFrames and are used to store and manipulate single columns of data."
   ]
  },
  {
   "cell_type": "code",
   "execution_count": 15,
   "id": "4a68eaac-6320-4f86-9d3b-ee2b68e85a68",
   "metadata": {},
   "outputs": [
    {
     "name": "stdout",
     "output_type": "stream",
     "text": [
      "     Name  Age  Gender\n",
      "0   Alice   25  Female\n",
      "1     Bob   30    Male\n",
      "2  Claire   27  Female\n"
     ]
    }
   ],
   "source": [
    "# Code for DataFrames:\n",
    "data = {\n",
    "    'Name' : ['Alice', 'Bob', 'Claire'],\n",
    "    'Age' : [25,30,27],\n",
    "    'Gender' : ['Female','Male', 'Female']\n",
    "}\n",
    "\n",
    "A = pd.DataFrame(data)\n",
    "print(A)"
   ]
  },
  {
   "cell_type": "code",
   "execution_count": 16,
   "id": "3faf9410-3db7-4063-8bbb-ec6e4043ef32",
   "metadata": {},
   "outputs": [
    {
     "name": "stdout",
     "output_type": "stream",
     "text": [
      "\n",
      "Series:\n",
      "0    25\n",
      "1    30\n",
      "2    27\n",
      "Name: Age, dtype: int64\n"
     ]
    }
   ],
   "source": [
    "#Code for Series:\n",
    "ages = pd.Series([25, 30, 27], name='Age')\n",
    "print(\"\\nSeries:\")\n",
    "print(ages)"
   ]
  },
  {
   "cell_type": "markdown",
   "id": "aaf748fe-9368-416c-a674-f5513a81b085",
   "metadata": {},
   "source": [
    "Q5. What are some common functions you can use to manipulate data in a Pandas DataFrame? Can you give an example of when you might use one of these functions?\n"
   ]
  },
  {
   "cell_type": "code",
   "execution_count": 17,
   "id": "1e34c7d7-b126-4316-8900-2aceca834039",
   "metadata": {},
   "outputs": [
    {
     "name": "stdout",
     "output_type": "stream",
     "text": [
      "    Name  Age  Gender\n",
      "0  Alice   25  Female\n",
      "1    Bob   30    Male\n"
     ]
    }
   ],
   "source": [
    "# head(): Returns the first n rows of the DataFrame. It is useful for quickly inspecting the data.\n",
    "data = {'Name': ['Alice', 'Bob', 'Claire'],\n",
    "        'Age': [25, 30, 27],\n",
    "        'Gender': ['Female', 'Male', 'Female']}\n",
    "df = pd.DataFrame(data)\n",
    "\n",
    "print(df.head(2))"
   ]
  },
  {
   "cell_type": "code",
   "execution_count": 19,
   "id": "1ca8f578-64d5-4787-9b1b-33168595d6f5",
   "metadata": {},
   "outputs": [
    {
     "name": "stdout",
     "output_type": "stream",
     "text": [
      "     Name  Age  Gender\n",
      "2  Claire   27  Female\n"
     ]
    }
   ],
   "source": [
    "# tail(): Returns the last n rows of the DataFrame. Useful for checking the end of the data.\n",
    "\n",
    "print(df.tail(1))\n"
   ]
  },
  {
   "cell_type": "code",
   "execution_count": 20,
   "id": "4e0e4ca6-cf1d-441d-8f1b-16fcb49ce8f0",
   "metadata": {},
   "outputs": [
    {
     "name": "stdout",
     "output_type": "stream",
     "text": [
      "<class 'pandas.core.frame.DataFrame'>\n",
      "RangeIndex: 3 entries, 0 to 2\n",
      "Data columns (total 3 columns):\n",
      " #   Column  Non-Null Count  Dtype \n",
      "---  ------  --------------  ----- \n",
      " 0   Name    3 non-null      object\n",
      " 1   Age     3 non-null      int64 \n",
      " 2   Gender  3 non-null      object\n",
      "dtypes: int64(1), object(2)\n",
      "memory usage: 200.0+ bytes\n"
     ]
    }
   ],
   "source": [
    "#info(): Provides a concise summary of the DataFrame, including data types, non-null values, and memory usage\n",
    "df.info()"
   ]
  },
  {
   "cell_type": "code",
   "execution_count": null,
   "id": "42da4b4c-84f9-4784-9c84-2d26bcb7f360",
   "metadata": {},
   "outputs": [],
   "source": []
  },
  {
   "cell_type": "markdown",
   "id": "5ce6d450-2993-4fee-9735-072549471298",
   "metadata": {},
   "source": [
    "Q6. Which of the following is mutable in nature Series, DataFrame, Panel?\n",
    "Ans: DataFrame"
   ]
  },
  {
   "cell_type": "code",
   "execution_count": null,
   "id": "34e58600-479e-4b7a-badc-6e16b5ead5ac",
   "metadata": {},
   "outputs": [],
   "source": []
  },
  {
   "cell_type": "code",
   "execution_count": 21,
   "id": "df656cca-5636-4f53-8270-19adc9cd837a",
   "metadata": {},
   "outputs": [
    {
     "name": "stdout",
     "output_type": "stream",
     "text": [
      "     Name  Age  Gender\n",
      "0   Alice   25  Female\n",
      "1     Bob   30    Male\n",
      "2  Claire   27  Female\n"
     ]
    }
   ],
   "source": [
    "# Q7. Create a DataFrame using multiple Series. Explain with an example.\n",
    "name_series = pd.Series(['Alice', 'Bob', 'Claire'])\n",
    "age_series = pd.Series([25, 30, 27])\n",
    "gender_series = pd.Series(['Female', 'Male', 'Female'])\n",
    "\n",
    "data = {\n",
    "    'Name': name_series,\n",
    "    'Age': age_series,\n",
    "    'Gender': gender_series\n",
    "}\n",
    "\n",
    "df = pd.DataFrame(data)\n",
    "\n",
    "print(df)"
   ]
  },
  {
   "cell_type": "markdown",
   "id": "9c57c20d-7911-4e9c-843f-a2d461dd3033",
   "metadata": {},
   "source": [
    "To create a DataFrame using multiple Series, we can use the pd.DataFrame() constructor and pass the Series as a dictionary where each Series corresponds to a column in the DataFrame. The index of the Series will be used as the index of the DataFrame. Here's an example:"
   ]
  },
  {
   "cell_type": "code",
   "execution_count": null,
   "id": "426d0a8e-32dc-449c-aa49-7a0ca3c02d84",
   "metadata": {},
   "outputs": [],
   "source": []
  }
 ],
 "metadata": {
  "kernelspec": {
   "display_name": "Python 3 (ipykernel)",
   "language": "python",
   "name": "python3"
  },
  "language_info": {
   "codemirror_mode": {
    "name": "ipython",
    "version": 3
   },
   "file_extension": ".py",
   "mimetype": "text/x-python",
   "name": "python",
   "nbconvert_exporter": "python",
   "pygments_lexer": "ipython3",
   "version": "3.10.8"
  }
 },
 "nbformat": 4,
 "nbformat_minor": 5
}
