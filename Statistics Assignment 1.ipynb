{
 "cells": [
  {
   "cell_type": "markdown",
   "id": "f49b331e-dcda-40fe-8f6a-7fe427112211",
   "metadata": {},
   "source": [
    "Q1. What are the three measures of central tendency?"
   ]
  },
  {
   "cell_type": "markdown",
   "id": "23e1ae93-a860-4c31-9b82-e15712384194",
   "metadata": {},
   "source": [
    "Ans: The three measures of Central Tendency are Mean, Median, Mode."
   ]
  },
  {
   "cell_type": "code",
   "execution_count": null,
   "id": "09109a16-ad8f-4409-b110-76a5d1f0da19",
   "metadata": {},
   "outputs": [],
   "source": []
  },
  {
   "cell_type": "markdown",
   "id": "b97c0792-985b-43b3-b6a9-048fa96cf411",
   "metadata": {},
   "source": [
    "Q2. What is the difference between the mean, median, and mode? How are they used to measure the\n",
    "central tendency of a dataset?"
   ]
  },
  {
   "cell_type": "markdown",
   "id": "75f4319a-058c-4310-9fb0-19aef5d1af30",
   "metadata": {},
   "source": [
    "Ans:\n",
    "1) Mean:\n",
    "The mean is the average value of a dataset.\n",
    "It is calculated by adding up all the values in the dataset and then dividing by the total number of values.\n",
    "It is commonly used when the data is continuous and normally distributed, as it gives a balanced representation of the dataset.\n",
    "2) Median:\n",
    "The median is the middle value in a dataset when the values are arranged in ascending or descending order.\n",
    "If there is an odd number of values, the median is the value exactly in the middle.\n",
    "If there is an even number of values, the median is the average of the two middle values.\n",
    "It is commonly used when dealing with ordinal data or skewed distributions.\n",
    "3) Mode:\n",
    "The mode is the value that appears most frequently in a dataset.\n",
    "A dataset can have one mode (unimodal), two modes (bimodal), or more (multimodal).\n",
    "The mode is especially useful when dealing with categorical data, where the values are not numerical but represent categories or groups."
   ]
  },
  {
   "cell_type": "code",
   "execution_count": null,
   "id": "8a785401-3390-4238-9caf-9e2833a9e5ff",
   "metadata": {},
   "outputs": [],
   "source": []
  },
  {
   "cell_type": "markdown",
   "id": "1c6bb395-f1d2-48b8-9b95-e224fda6cd82",
   "metadata": {},
   "source": [
    "Q3. Measure the three measures of central tendency for the given height data:\n",
    "[178,177,176,177,178.2,178,175,179,180,175,178.9,176.2,177,172.5,178,176.5]"
   ]
  },
  {
   "cell_type": "markdown",
   "id": "ebd74cd1-35fd-4d94-a863-c580532082ed",
   "metadata": {},
   "source": [
    "Ans: \n",
    "1) Mean:\n",
    "Mean = (178 + 177 + 176 + 177 + 178.2 + 178 + 175 + 179 + 180 + 175 + 178.9 + 176.2 + 177 + 172.5 + 178 + 176.5) / 16\n",
    "Mean = 2828.3 / 16\n",
    "Mean = 176.76875\n",
    "2) Median:\n",
    "To find the median, first, arrange the data in ascending order:\n",
    "172.5, 175, 175, 176, 176, 176.2, 176.5, 177, 177, 177, 178, 178, 178, 178.2, 178.9, 179, 180\n",
    "\n",
    "Since there are 16 values, the median is the average of the two middle values:\n",
    "\n",
    "Median = (176 + 178) / 2\n",
    "Median = 354 / 2\n",
    "Median = 177\n",
    "\n",
    "3) Mode:\n",
    "Mode = 178 (appears three times)"
   ]
  },
  {
   "cell_type": "code",
   "execution_count": null,
   "id": "a09454a4-823e-48dc-8c97-e00926c11a68",
   "metadata": {},
   "outputs": [],
   "source": []
  },
  {
   "cell_type": "markdown",
   "id": "76faf7b5-28c3-4a93-8172-bc407dd83a61",
   "metadata": {},
   "source": [
    "Q4. Find the standard deviation for the given data:\n",
    "[178,177,176,177,178.2,178,175,179,180,175,178.9,176.2,177,172.5,178,176.5]\n",
    "\n",
    "\n",
    "\n",
    "Ans:The standard deviation for the given data is approximately 1.808822."
   ]
  },
  {
   "cell_type": "code",
   "execution_count": null,
   "id": "265a51d8-37fb-49ba-8170-1fee94ae1d42",
   "metadata": {},
   "outputs": [],
   "source": []
  },
  {
   "cell_type": "markdown",
   "id": "2bb11d10-0e2a-494b-bf54-e376853eb22d",
   "metadata": {},
   "source": [
    "Q5. How are measures of dispersion such as range, variance, and standard deviation used to describe\n",
    "the spread of a dataset? Provide an example."
   ]
  },
  {
   "cell_type": "markdown",
   "id": "20d21936-9ea5-4190-9a52-7a5c4b72f269",
   "metadata": {},
   "source": [
    "Ans:Measures of dispersion, such as range, variance, and standard deviation, are used to describe the spread or variability of a dataset. They provide information about how the values in the dataset are scattered or dispersed around the central tendency (mean, median, or mode). A larger dispersion indicates that the values are more spread out from the central value, while a smaller dispersion indicates that the values are closer to the central value.\n",
    "Example:  Exam Scores of Two Students in Two Subjects.\n",
    "\t      Math\tEnglish\n",
    "Student A\t85\t90\n",
    "Student B\t70\t95\n",
    "\n",
    "Measures of dispersion, such as range, variance, and standard deviation, are used to describe the spread or variability of a dataset. They provide information about how the values in the dataset are scattered or dispersed around the central tendency (mean, median, or mode). A larger dispersion indicates that the values are more spread out from the central value, while a smaller dispersion indicates that the values are closer to the central value.\n",
    "\n",
    "Let's take a simple example to understand how these measures are used to describe the spread of a dataset:\n",
    "\n",
    "Example: Exam Scores of Two Students in Two Subjects\n",
    "\n",
    "Consider the following exam scores of two students (Student A and Student B) in two subjects (Math and English):\n",
    "\n",
    "Math\tEnglish\n",
    "Student A\t85\t90\n",
    "Student B\t70\t95\n",
    "Step 1: Calculate the means of each subject for both students.\n",
    "\n",
    "Mean Math score for Student A = (85) / 1 = 85\n",
    "Mean Math score for Student B = (70) / 1 = 70\n",
    "\n",
    "Mean English score for Student A = (90) / 1 = 90\n",
    "Mean English score for Student B = (95) / 1 = 95\n",
    "\n",
    "Step 2: Calculate the range for each subject.\n",
    "\n",
    "Range = Maximum value - Minimum value\n",
    "\n",
    "Measures of dispersion, such as range, variance, and standard deviation, are used to describe the spread or variability of a dataset. They provide information about how the values in the dataset are scattered or dispersed around the central tendency (mean, median, or mode). A larger dispersion indicates that the values are more spread out from the central value, while a smaller dispersion indicates that the values are closer to the central value.\n",
    "\n",
    "Let's take a simple example to understand how these measures are used to describe the spread of a dataset:\n",
    "\n",
    "Example: Exam Scores of Two Students in Two Subjects\n",
    "\n",
    "Consider the following exam scores of two students (Student A and Student B) in two subjects (Math and English):\n",
    "\n",
    "Math\tEnglish\n",
    "Student A\t85\t90\n",
    "Student B\t70\t95\n",
    "Step 1: Calculate the means of each subject for both students.\n",
    "\n",
    "Mean Math score for Student A = (85) / 1 = 85\n",
    "Mean Math score for Student B = (70) / 1 = 70\n",
    "\n",
    "Mean English score for Student A = (90) / 1 = 90\n",
    "Mean English score for Student B = (95) / 1 = 95\n",
    "\n",
    "Step 2: Calculate the range for each subject.\n",
    "\n",
    "Range = Maximum value - Minimum value\n",
    "\n",
    "For Math:\n",
    "Range Math for Student A = Maximum Math score - Minimum Math score = 85 - 85 = 0\n",
    "Range Math for Student B = Maximum Math score - Minimum Math score = 70 - 70 = 0\n",
    "\n",
    "For English:\n",
    "Range English for Student A = Maximum English score - Minimum English score = 90 - 90 = 0\n",
    "Range English for Student B = Maximum English score - Minimum English score = 95 - 95 = 0\n",
    "\n",
    "Step 3: Calculate the variance and standard deviation for each subject.\n",
    "\n",
    "Variance measures the average of the squared differences from the mean.\n",
    "\n",
    "For Math:\n",
    "Variance Math for Student A = [(85 - 85)^2] / 1 = 0\n",
    "Variance Math for Student B = [(70 - 70)^2] / 1 = 0\n",
    "\n",
    "For English:\n",
    "Variance English for Student A = [(90 - 90)^2] / 1 = 0\n",
    "Variance English for Student B = [(95 - 95)^2] / 1 = 0\n",
    "\n",
    "Standard deviation is the square root of variance.\n",
    "\n",
    "Standard Deviation Math for Student A = √(0) = 0\n",
    "Standard Deviation Math for Student B = √(0) = 0\n",
    "\n",
    "Standard Deviation English for Student A = √(0) = 0\n",
    "Standard Deviation English for Student B = √(0) = 0"
   ]
  },
  {
   "cell_type": "code",
   "execution_count": null,
   "id": "ee6bb0f7-ed83-4101-9ac8-5d1336ea0b0e",
   "metadata": {},
   "outputs": [],
   "source": []
  },
  {
   "cell_type": "markdown",
   "id": "daddd904-1a98-4d0e-a6b9-13b77cf25846",
   "metadata": {},
   "source": [
    "Q6. What is a Venn diagram?\n",
    "\n",
    "Ans:\n",
    "A Venn diagram is a graphical representation that uses circles (or sometimes other shapes) to show the relationships between different sets or groups of items.Each circle represents a separate set.\n",
    "The elements or items belonging to each set are depicted as points within the circles.\n",
    "The overlapping regions between circles represent the elements that are common to both sets."
   ]
  },
  {
   "cell_type": "code",
   "execution_count": null,
   "id": "c0f0a48a-b41c-48a2-8d7b-e97cb7b10a69",
   "metadata": {},
   "outputs": [],
   "source": []
  },
  {
   "cell_type": "markdown",
   "id": "4607f42f-4760-490a-8e9f-5e510c80b69a",
   "metadata": {},
   "source": [
    "Q7. For the two given sets A = (2,3,4,5,6,7) & B = (0,2,6,8,10). Find:\n",
    "(i) A B\n",
    "(ii) A ⋃ B\n",
    "\n",
    "Ans:\n",
    "(i) A ⋂ B = {2, 6}\n",
    "(ii) A ⋃ B = {0, 2, 3, 4, 5, 6, 7, 8, 10}"
   ]
  },
  {
   "cell_type": "code",
   "execution_count": null,
   "id": "f32d50c9-e71f-4d65-bb98-b3332ac63762",
   "metadata": {},
   "outputs": [],
   "source": []
  },
  {
   "cell_type": "markdown",
   "id": "87bced05-e9ac-4896-9081-6702ad63ca04",
   "metadata": {},
   "source": [
    "Q8. What do you understand about skewness in data?\n",
    "\n",
    "Ans: Skewness is a statistical measure that quantifies the asymmetry of the probability distribution of a dataset. It helps us understand the shape of the distribution and how the data is spread around the mean.\n",
    "\n",
    "\n",
    "There are three types of skewness:\n",
    "1.Positive skewness (right-skewed): In a right-skewed distribution, the tail on the right side of the distribution is longer or fatter than the left side. This means that there are some extreme high values that pull the mean towards the right side. The median is generally less than the mean in such cases.\n",
    "\n",
    "\n",
    "2.Negative skewness (left-skewed): In a left-skewed distribution, the tail on the left side of the distribution is longer or fatter than the right side. This means that there are some extreme low values that pull the mean towards the left side. The median is generally greater than the mean in such cases.\n",
    "\n",
    "\n",
    "3.Symmetric skewness: A distribution is symmetric if it has equal tails on both sides, meaning the right and left sides mirror each other. In this case, the mean and median are approximately equal."
   ]
  },
  {
   "cell_type": "code",
   "execution_count": null,
   "id": "94ebaa75-e768-41d1-9e31-df979bc50081",
   "metadata": {},
   "outputs": [],
   "source": []
  },
  {
   "cell_type": "markdown",
   "id": "283f3dd7-3da4-464f-a9ee-4da56376d57a",
   "metadata": {},
   "source": [
    "Q9. If a data is right skewed then what will be the position of median with respect to mean?\n",
    "\n",
    "Ans:For a right-skewed distribution, the mean > median.The median is more robust to extreme values, so it tends to be closer to the center of the data."
   ]
  },
  {
   "cell_type": "code",
   "execution_count": null,
   "id": "e94c4a68-d45b-4188-abe1-1764f584dcf6",
   "metadata": {},
   "outputs": [],
   "source": []
  },
  {
   "cell_type": "markdown",
   "id": "2d8c8a5f-40f6-43dc-9912-0ecd636f9ced",
   "metadata": {},
   "source": [
    "Q10. Explain the difference between covariance and correlation. How are these measures used in\n",
    "statistical analysis?\n",
    "\n",
    "Ans:Covariance and correlation are both measures used to analyze the relationship between two variables in statistical analysis. Covariance is a measure of how two variables change together, indicating the direction of the linear relationship between them. It can take positive, negative, or zero values, which respectively indicate positive correlation (both variables increase together), negative correlation (one variable increases while the other decreases), or no linear relationship. However, covariance lacks a standardized interpretation, making it less comparable across different datasets. It ranges from negative infinity to positive infinity and is not scale-invariant.\n",
    "\n",
    "\n",
    "On the other hand, correlation is a standardized version of covariance that measures both the direction and strength of the linear relationship between variables. The correlation coefficient ranges from -1 to +1, where a value of +1 indicates a perfect positive linear relationship, -1 indicates a perfect negative linear relationship, and 0 indicates no linear relationship. Correlation is dimensionless and scale-invariant, making it easily comparable across various datasets. This property enables correlation to be widely used in different statistical analyses, such as assessing the strength and direction of relationships between variables and constructing correlation matrices for multiple variables."
   ]
  },
  {
   "cell_type": "code",
   "execution_count": null,
   "id": "a79ac7dd-3bff-497d-914a-2dc46c9233f9",
   "metadata": {},
   "outputs": [],
   "source": []
  },
  {
   "cell_type": "markdown",
   "id": "bbe8a205-ba91-4eb5-ad0c-bdc4ba533cdb",
   "metadata": {},
   "source": [
    "Q11. What is the formula for calculating the sample mean? Provide an example calculation for a\n",
    "dataset.\n",
    "\n",
    "Ans: Formula for calculating sample mean is:  (x1+x2+x3+......+Xn)/n\n",
    "where n is sample size and xi is data points.\n",
    "Let's consider a dataset with the following values: 12, 18, 25, 10, 15, and 20.\n",
    "\n",
    "to calculate the sample mean X:(12+18+25+10+15+20)/6\n",
    " = 100/6\n",
    " = 16.67\n",
    " "
   ]
  },
  {
   "cell_type": "code",
   "execution_count": null,
   "id": "2929886c-adc2-45d6-b00f-d5df3ec106e7",
   "metadata": {},
   "outputs": [],
   "source": []
  },
  {
   "cell_type": "markdown",
   "id": "9f1d97e5-5e9d-4248-a5bb-4ccff28b134b",
   "metadata": {},
   "source": [
    "Q12. For a normal distribution data what is the relationship between its measure of central tendency?\n",
    "\n",
    "Ans: For a normal distribution, the mean, median, and mode are all equal and located at the center of the distribution. This symmetry is a fundamental characteristic of the normal distribution, making it one of the most important and widely used probability distributions in statistics and probability theory."
   ]
  },
  {
   "cell_type": "code",
   "execution_count": null,
   "id": "6772b41c-db15-4455-8c35-5f7198f31320",
   "metadata": {},
   "outputs": [],
   "source": []
  },
  {
   "cell_type": "markdown",
   "id": "cabeaad6-5b4b-4f0d-b829-2d77aec23846",
   "metadata": {},
   "source": [
    "Q13. How is covariance different from correlation?\n",
    "\n",
    "Ans: \n",
    "Covariance and correlation are both measures used to assess the relationship between two variables. Covariance indicates the direction of the linear relationship but lacks a standardized measure of strength and is sensitive to the scale of variables. On the other hand, correlation provides a standardized measure of both direction and strength, ranging from -1 to +1, and is not affected by variable scale. This makes correlation more interpretable and widely used in statistical analysis to compare relationships across datasets."
   ]
  },
  {
   "cell_type": "code",
   "execution_count": null,
   "id": "8483dd5f-d8be-4615-b7b7-c85e12533aa9",
   "metadata": {},
   "outputs": [],
   "source": []
  },
  {
   "cell_type": "markdown",
   "id": "44ec455a-5d9e-4740-ba35-fde7ed47165e",
   "metadata": {},
   "source": [
    "Q14. How do outliers affect measures of central tendency and dispersion? Provide an example.\n",
    "\n",
    "Ans:\n",
    "Outliers can significantly affect measures of central tendency and dispersion in a dataset. Measures of central tendency, such as the mean and median, are particularly sensitive to extreme values, while measures of dispersion, such as the range and standard deviation, can be heavily influenced by the presence of outliers.\n",
    "\n",
    "Example:\n",
    "\n",
    "Consider the following dataset representing the ages of a group of people:\n",
    "\n",
    "25\n",
    ",\n",
    "30\n",
    ",\n",
    "28\n",
    ",\n",
    "27\n",
    ",\n",
    "26\n",
    ",\n",
    "35\n",
    ",\n",
    "29\n",
    ",\n",
    "31\n",
    ",\n",
    "34\n",
    ",\n",
    "33\n",
    ",\n",
    "28\n",
    ",\n",
    "26\n",
    ",\n",
    "30\n",
    ",\n",
    "27\n",
    ",\n",
    "65\n",
    "25,30,28,27,26,35,29,31,34,33,28,26,30,27,65\n",
    "\n",
    "In this dataset, the age \"65\" is an outlier, as it deviates significantly from the rest of the values.\n",
    "\n",
    "Measures of Central Tendency:\n",
    "\n",
    "Mean: The mean is the sum of all values divided by the number of values. In this case, the mean age would be:\n",
    " Mean = (25,30,28,27,26,35,29,31,34,33,28,26,30,27,65)/15 = 32.07\n",
    "The presence of the outlier \"65\" pulls the mean towards higher values, making it higher than what it would have been without the outlier.\n",
    "\n",
    "Median: The median is the middle value in the dataset when arranged in ascending order. Without the outlier, the median age would be:\n",
    "Median = 29\n",
    "Median=29\n",
    "\n",
    "However, with the outlier, the median remains the same because it is not influenced by extreme values.\n",
    "\n",
    "Measures of Dispersion:\n",
    "\n",
    "Range: The range is the difference between the maximum and minimum values in the dataset. Without the outlier, the range would be:\n",
    "Range=35−25=10\n",
    "Range=35−25=10\n",
    "\n",
    "With the outlier, the range increases significantly:\n",
    "\n",
    "Range=65−25=40\n",
    "Range=65−25=40\n",
    "\n",
    "The outlier causes the range to expand.\n",
    "\n",
    "Standard Deviation: The standard deviation measures the spread or dispersion of the data around the mean. Without the outlier, the standard deviation would be:\n",
    "Standard Deviation≈3.83\n",
    "Standard Deviation≈3.83\n",
    "\n",
    "With the outlier, the standard deviation increases:\n",
    "\n",
    "Standard Deviation≈11.71\n",
    "Standard Deviation≈11.71"
   ]
  },
  {
   "cell_type": "code",
   "execution_count": null,
   "id": "ad92c3c8-545d-4b70-8489-9a37fe6d5375",
   "metadata": {},
   "outputs": [],
   "source": []
  },
  {
   "cell_type": "code",
   "execution_count": null,
   "id": "a6d115ad-a604-4c51-b7e9-025de5c837f3",
   "metadata": {},
   "outputs": [],
   "source": []
  },
  {
   "cell_type": "code",
   "execution_count": null,
   "id": "6a7cd898-7532-48f3-8a00-c521edd21e64",
   "metadata": {},
   "outputs": [],
   "source": []
  },
  {
   "cell_type": "code",
   "execution_count": null,
   "id": "bd6df3e2-973d-4c47-aabc-cbf581d32845",
   "metadata": {},
   "outputs": [],
   "source": []
  },
  {
   "cell_type": "code",
   "execution_count": null,
   "id": "e51ebb3b-5289-4e53-a7bc-c139734254c4",
   "metadata": {},
   "outputs": [],
   "source": []
  },
  {
   "cell_type": "code",
   "execution_count": null,
   "id": "2da97cb9-6b9f-4ef8-809e-1b0387287570",
   "metadata": {},
   "outputs": [],
   "source": []
  },
  {
   "cell_type": "code",
   "execution_count": null,
   "id": "83d39d3f-eb02-4263-93d1-6783fbdec0ba",
   "metadata": {},
   "outputs": [],
   "source": []
  },
  {
   "cell_type": "code",
   "execution_count": null,
   "id": "506f8c8a-0c45-474e-a2bb-fa71b4d17fdb",
   "metadata": {},
   "outputs": [],
   "source": []
  }
 ],
 "metadata": {
  "kernelspec": {
   "display_name": "Python 3 (ipykernel)",
   "language": "python",
   "name": "python3"
  },
  "language_info": {
   "codemirror_mode": {
    "name": "ipython",
    "version": 3
   },
   "file_extension": ".py",
   "mimetype": "text/x-python",
   "name": "python",
   "nbconvert_exporter": "python",
   "pygments_lexer": "ipython3",
   "version": "3.10.8"
  }
 },
 "nbformat": 4,
 "nbformat_minor": 5
}
