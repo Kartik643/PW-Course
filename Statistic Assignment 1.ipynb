{
 "cells": [
  {
   "cell_type": "markdown",
   "id": "451dbfaf-fe71-49bf-ad64-407257f22d2d",
   "metadata": {},
   "source": [
    "Q1. What is the Probability density function?\n",
    "\n",
    "Ans:It describes the likelihood of a continuous random variable taking on a particular value within a given range. In simpler terms, the PDF gives the probability that a continuous random variable falls within a specific interval.The PDF is used in various statistical applications, such as finding the probability of a random variable falling within a particular range or calculating expected values and other moments of the distribution. \n",
    "\n",
    "\n",
    "Q2. What are the types of Probability distribution?\n",
    "\n",
    "Ans: 1.Normal Distribution\n",
    "\n",
    "2.Bernoulli Distribution\n",
    "\n",
    "3.Uniform Distribution\n",
    "\n",
    "4.Log Normal Distribution\n",
    "\n",
    "5.Poisson Distribution\n",
    "\n",
    "6.Power Low Distribution\n",
    "\n",
    "7.Binomial distribution\n",
    "\n"
   ]
  },
  {
   "cell_type": "code",
   "execution_count": null,
   "id": "196e9a3d-e2b3-4a72-afc4-b209d3399cb1",
   "metadata": {},
   "outputs": [],
   "source": []
  },
  {
   "cell_type": "markdown",
   "id": "32549e32-6e05-44ff-8c62-2b584c1db530",
   "metadata": {},
   "source": [
    "Q3. Write a Python function to calculate the probability density function of a normal distribution with\n",
    "given mean and standard deviation at a given point.\n"
   ]
  },
  {
   "cell_type": "code",
   "execution_count": 3,
   "id": "a61c7117-2486-43d5-b951-a9dc83f166b3",
   "metadata": {},
   "outputs": [
    {
     "name": "stdout",
     "output_type": "stream",
     "text": [
      "The PDF value at x=7.0 is: 0.12098536225957168\n"
     ]
    }
   ],
   "source": [
    "from scipy.stats import norm\n",
    "\n",
    "mean = 5.0\n",
    "std_dev = 2.0\n",
    "x = 7.0\n",
    "\n",
    "pdf_at_x = norm.pdf(x, loc=mean, scale=std_dev)\n",
    "\n",
    "print(f\"The PDF value at x={x} is: {pdf_at_x}\")"
   ]
  },
  {
   "cell_type": "code",
   "execution_count": null,
   "id": "f9f33c50-526c-4065-b2cf-c3d31a45bcbe",
   "metadata": {},
   "outputs": [],
   "source": []
  },
  {
   "cell_type": "markdown",
   "id": "029695b9-7928-4414-ab0e-e613d6bc29ec",
   "metadata": {},
   "source": [
    "Q4. What are the properties of Binomial distribution? Give two examples of events where binomial\n",
    "distribution can be applied.\n",
    "\n",
    "Ans: The Binomial distribution is a probability distribution that arises from a specific type of discrete random variable, which can take only two possible outcomes: success or failure. It is characterized by two parameters: the number of trials (n) and the probability of success (p) for each trial.\n",
    "\n",
    "Properties of the Binomial distribution:\n",
    "\n",
    "1.Fixed number of trials: The distribution is based on a fixed number of independent trials, denoted by 'n'.\n",
    "\n",
    "2.Two possible outcomes: Each trial can result in one of two outcomes, usually denoted as \"success\" (S) and \"failure\" (F), where success is the event of interest.\n",
    "\n",
    "3.Independent trials: The outcome of each trial is independent of previous and future trials. The probability of success (p) remains constant across all trials.\n",
    "\n",
    "4.Constant probability: The probability of success (p) is the same for all trials, and the probability of failure (1 - p) is also constant.\n",
    "\n",
    "5.Discrete probabilities: The probabilities of obtaining a specific number of successes in 'n' trials are discrete.\n",
    "\n",
    "Examples:1.When flipping a fair coin (probability of heads = 0.5) 10 times, the Binomial distribution can be used to calculate the probabilities of getting a specific number of heads (successes) out of the 10 tosses.\n",
    "2.In a class of 30 students, the probability of any student passing a challenging exam is 'p = 0.7' (70%). The Binomial distribution can be used to estimate the probabilities of a certain number of students passing the exam (successes) out of the 30 students in the class."
   ]
  },
  {
   "cell_type": "code",
   "execution_count": null,
   "id": "57119404-a73f-4441-bc54-cf5ff27c3f50",
   "metadata": {},
   "outputs": [],
   "source": []
  },
  {
   "cell_type": "markdown",
   "id": "5b3848db-bb66-45ab-abdb-213a1c93456a",
   "metadata": {},
   "source": [
    "Q5. Generate a random sample of size 1000 from a binomial distribution with probability of success 0.4\n",
    "and plot a histogram of the results using matplotlib."
   ]
  },
  {
   "cell_type": "code",
   "execution_count": 1,
   "id": "f2abe162-62aa-4f85-9f7c-8fd09d351c3f",
   "metadata": {},
   "outputs": [
    {
     "data": {
      "image/png": "[encoded data removed]",
      "text/plain": [
       "<Figure size 640x480 with 1 Axes>"
      ]
     },
     "metadata": {},
     "output_type": "display_data"
    }
   ],
   "source": [
    "import numpy as np\n",
    "import matplotlib.pyplot as plt\n",
    "\n",
    "sample_size = 1000\n",
    "probability_success = 0.4\n",
    "\n",
    "random_sample = np.random.binomial(n=1, p=probability_success, size=sample_size)\n",
    "\n",
    "plt.hist(random_sample, bins=2, edgecolor='black')\n",
    "plt.xticks([0.25, 0.75], ['Failure', 'Success'])\n",
    "plt.xlabel('Outcome')\n",
    "plt.ylabel('Frequency')\n",
    "plt.title('Histogram of Random Sample from Binomial Distribution')\n",
    "plt.show()\n"
   ]
  },
  {
   "cell_type": "code",
   "execution_count": null,
   "id": "256b97a4-90f5-4d7d-9674-6733dde20752",
   "metadata": {},
   "outputs": [],
   "source": []
  },
  {
   "cell_type": "markdown",
   "id": "7faf4567-64ce-4e89-ab60-394762258a24",
   "metadata": {},
   "source": [
    "Q6. Write a Python function to calculate the cumulative distribution function of a Poisson distribution\n",
    "with given mean at a given point."
   ]
  },
  {
   "cell_type": "code",
   "execution_count": 2,
   "id": "80b06da1-82ba-4d9a-b312-f69d420dadad",
   "metadata": {},
   "outputs": [
    {
     "name": "stdout",
     "output_type": "stream",
     "text": [
      "CDF at point 2 for mean 3.5: 0.32084719886213414\n"
     ]
    }
   ],
   "source": [
    "import scipy.stats as stats\n",
    "\n",
    "# Parameters\n",
    "mean = 3.5\n",
    "point = 2\n",
    "\n",
    "# Calculate the CDF at the given point\n",
    "cdf_value = stats.poisson.cdf(point, mu=mean)\n",
    "\n",
    "print(f\"CDF at point {point} for mean {mean}: {cdf_value}\")\n"
   ]
  },
  {
   "cell_type": "code",
   "execution_count": null,
   "id": "c7c26527-77be-48d1-89c1-96fae62e0b92",
   "metadata": {},
   "outputs": [],
   "source": []
  },
  {
   "cell_type": "markdown",
   "id": "45c047a2-4e16-4e07-a1cd-07875ed11d63",
   "metadata": {},
   "source": [
    "Q7. How Binomial distribution different from Poisson distribution?\n",
    "\n",
    "Ans:Binomial distribution: Models the number of successes in a fixed number of independent trials, with two possible outcomes (success/failure) and a constant probability of success for each trial.\n",
    "\n",
    "Poisson distribution: Models the number of rare events occurring in a fixed interval of time or space, with no fixed number of trials and a single parameter representing the average rate of event occurrences."
   ]
  },
  {
   "cell_type": "code",
   "execution_count": null,
   "id": "85c2eac9-2a31-4e20-8002-5ffcb72f267f",
   "metadata": {},
   "outputs": [],
   "source": []
  },
  {
   "cell_type": "markdown",
   "id": "e4564a5d-3de4-4a7a-9301-bc3c945b5476",
   "metadata": {},
   "source": [
    "Q8. Generate a random sample of size 1000 from a Poisson distribution with mean 5 and calculate the\n",
    "sample mean and variance."
   ]
  },
  {
   "cell_type": "code",
   "execution_count": 3,
   "id": "35b41495-f33d-4ffa-854a-03cf8e568b1e",
   "metadata": {},
   "outputs": [
    {
     "name": "stdout",
     "output_type": "stream",
     "text": [
      "Sample Mean: 4.965\n",
      "Sample Variance: 5.293068068068068\n"
     ]
    }
   ],
   "source": [
    "import numpy as np\n",
    "\n",
    "# Set the parameters\n",
    "sample_size = 1000\n",
    "mean = 5\n",
    "\n",
    "# Generate random sample from Poisson distribution\n",
    "random_sample = np.random.poisson(mean, size=sample_size)\n",
    "\n",
    "# Calculate sample mean and variance\n",
    "sample_mean = np.mean(random_sample)\n",
    "sample_variance = np.var(random_sample, ddof=1)  # Set ddof=1 for sample variance\n",
    "\n",
    "print(f\"Sample Mean: {sample_mean}\")\n",
    "print(f\"Sample Variance: {sample_variance}\")\n"
   ]
  },
  {
   "cell_type": "code",
   "execution_count": null,
   "id": "135c6f25-75ae-4fe6-9fdf-b6aede555616",
   "metadata": {},
   "outputs": [],
   "source": []
  },
  {
   "cell_type": "markdown",
   "id": "b4a56199-6393-447b-8e56-c6488a5bebab",
   "metadata": {},
   "source": [
    "Q9. How mean and variance are related in Binomial distribution and Poisson distribution?\n",
    "\n",
    "Ans:Binomial Distribution:\n",
    "\n",
    "Mean (μ) = n * p\n",
    "\n",
    "Variance (σ^2) = n * p * (1 - p)\n",
    "\n",
    "Variance depends on both 'n' (number of trials) and 'p' (probability of success).\n",
    "\n",
    "Poisson Distribution:\n",
    "\n",
    "Mean (μ) = λ (average rate of event occurrences)\n",
    "\n",
    "Variance (σ^2) = λ\n",
    "\n",
    "Variance is equal to the mean and remains constant regardless of the value of λ."
   ]
  },
  {
   "cell_type": "code",
   "execution_count": null,
   "id": "8fe4092a-e208-4100-b0aa-2c754f146487",
   "metadata": {},
   "outputs": [],
   "source": []
  },
  {
   "cell_type": "markdown",
   "id": "9d6e36c0-250c-4df5-9228-0056042a318f",
   "metadata": {},
   "source": [
    "Q10. In normal distribution with respect to mean position, where does the least frequent data appear?\n",
    "\n",
    "Ans:In a normal distribution, the least frequent data appears in the tails of the distribution, which are farthest from the mean. The tails represent extreme values, and the probability of observing data in these regions decreases rapidly as you move farther away from the mean."
   ]
  },
  {
   "cell_type": "code",
   "execution_count": null,
   "id": "8aa7973e-ccc3-474b-8edf-6dda25249a32",
   "metadata": {},
   "outputs": [],
   "source": []
  },
  {
   "cell_type": "code",
   "execution_count": null,
   "id": "7eb34dfd-c5b2-44a6-af11-88565f7fec7d",
   "metadata": {},
   "outputs": [],
   "source": []
  },
  {
   "cell_type": "code",
   "execution_count": null,
   "id": "8e204de0-ec16-40be-ab7c-6a38e624420f",
   "metadata": {},
   "outputs": [],
   "source": []
  },
  {
   "cell_type": "code",
   "execution_count": null,
   "id": "0eee95ed-26b8-4d8c-bf05-099b5c00708b",
   "metadata": {},
   "outputs": [],
   "source": []
  },
  {
   "cell_type": "code",
   "execution_count": null,
   "id": "b92d8abc-7d8e-4e5b-a5f1-dba0eb85b4b7",
   "metadata": {},
   "outputs": [],
   "source": []
  },
  {
   "cell_type": "code",
   "execution_count": null,
   "id": "e00697f9-e478-468e-91db-73ce2d82641d",
   "metadata": {},
   "outputs": [],
   "source": []
  },
  {
   "cell_type": "code",
   "execution_count": null,
   "id": "1d9f1375-3bf5-4437-9fa5-64f3a81fe2d6",
   "metadata": {},
   "outputs": [],
   "source": []
  },
  {
   "cell_type": "code",
   "execution_count": null,
   "id": "cc745910-eba6-4662-b300-1ce07b1bf2ba",
   "metadata": {},
   "outputs": [],
   "source": []
  },
  {
   "cell_type": "code",
   "execution_count": null,
   "id": "ca1a2236-3d83-4ed3-a2dd-f4be87635f78",
   "metadata": {},
   "outputs": [],
   "source": []
  }
 ],
 "metadata": {
  "kernelspec": {
   "display_name": "Python 3 (ipykernel)",
   "language": "python",
   "name": "python3"
  },
  "language_info": {
   "codemirror_mode": {
    "name": "ipython",
    "version": 3
   },
   "file_extension": ".py",
   "mimetype": "text/x-python",
   "name": "python",
   "nbconvert_exporter": "python",
   "pygments_lexer": "ipython3",
   "version": "3.10.8"
  }
 },
 "nbformat": 4,
 "nbformat_minor": 5
}
