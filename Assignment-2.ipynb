{
 "cells": [
  {
   "cell_type": "markdown",
   "id": "b0389703-39e5-4dde-82e6-9e2b04bcdd51",
   "metadata": {},
   "source": [
    "How do you comment code in Python? What are the different types of comments?"
   ]
  },
  {
   "cell_type": "markdown",
   "id": "38b33253-67cf-470f-a90e-c135ad22fbc1",
   "metadata": {},
   "source": [
    "Ans: In python we use comment for explanation of a particular section of a code.Python comments can be (i) single-line comments and (ii) multi-line comments. \n",
    "(i) In single-line comments '#' is used before starting an explanation. This is used to comment down in a single line and is ignored by a compiler.\n",
    "Example: \n",
    "#this is a single-line comment\n",
    "a = 10  \n",
    "\n",
    "(ii)In multi-line comments we can use either \"\"\" \"\"\" or ''' ''' for commenting. Multi-line comments are used in case of a longer explanation with more than one line.\n",
    "Example:\n",
    "a = 10 \"\"\" this is a multi-line comment \n",
    "               line 2\n",
    "               line3\"\"\" \n",
    "               "
   ]
  },
  {
   "cell_type": "markdown",
   "id": "72ff6bf8-2b11-435e-83a7-d71271a7ac0d",
   "metadata": {},
   "source": [
    "Q2. What are variables in Python? How do you declare and assign values to variables?"
   ]
  },
  {
   "cell_type": "markdown",
   "id": "13e43fbd-4b5d-46cb-870b-199a96f70c54",
   "metadata": {},
   "source": [
    "Ans: In Python, variables are used to store and manipulate data. The variable will be in the memory with the particular name that we assign to it.To declare a variable we need to choose a nome of a variable which need to be started by a alphabets where numbers are not allowed for a variable name and to assign a value to a variable we use simple assignment operator(=). As python is dynamically typed we do not need to specify the data type to a variable."
   ]
  },
  {
   "cell_type": "code",
   "execution_count": 2,
   "id": "79744f33-2fc8-4024-ae9a-0cad1c649443",
   "metadata": {},
   "outputs": [
    {
     "data": {
      "text/plain": [
       "10"
      ]
     },
     "execution_count": 2,
     "metadata": {},
     "output_type": "execute_result"
    }
   ],
   "source": [
    "a = 10 \n",
    "a"
   ]
  },
  {
   "cell_type": "code",
   "execution_count": null,
   "id": "0bdc7759-46c0-4372-b9e8-4b2c665792d3",
   "metadata": {},
   "outputs": [],
   "source": []
  },
  {
   "cell_type": "markdown",
   "id": "eb13af98-f6d8-4583-a3a9-d09e6045d3b0",
   "metadata": {},
   "source": [
    "Q3. How do you convert one data type to another in Python?"
   ]
  },
  {
   "cell_type": "code",
   "execution_count": 20,
   "id": "89c5a95d-3675-4599-9690-aff1c0d2dee6",
   "metadata": {},
   "outputs": [
    {
     "name": "stdout",
     "output_type": "stream",
     "text": [
      "<class 'str'>\n",
      "<class 'float'>\n",
      "<class 'int'>\n",
      "<class 'str'>\n"
     ]
    }
   ],
   "source": [
    "\"\"\"In Python, you can convert one data type to another using type conversion functions\n",
    "or by directly assigning the value to a variable of the desired data type.\"\"\"\n",
    "\n",
    "pi = \"3.14\"\n",
    "D = \"10\"\n",
    "roll = 55\n",
    "print(type(pi)) #initially data-type of pi is string\n",
    "\n",
    "#to convert pi to float\n",
    "a = float(pi)\n",
    "print(type(a))\n",
    "\n",
    "#to convert D to int which is string\n",
    "b = int(D)\n",
    "print(type(b))\n",
    "\n",
    "#to convert roll into string which is initially integer\n",
    "c = str(roll)\n",
    "print(type(c))"
   ]
  },
  {
   "cell_type": "code",
   "execution_count": null,
   "id": "75b53585-1b72-4d4e-aa9b-f701e378d264",
   "metadata": {},
   "outputs": [],
   "source": []
  },
  {
   "cell_type": "markdown",
   "id": "5958d594-b86f-4396-97c5-ffe424bb7e83",
   "metadata": {},
   "source": [
    "Q4. How do you write and execute a Python script from the command line?"
   ]
  },
  {
   "cell_type": "markdown",
   "id": "e70f7885-9700-48a7-bb21-12ca47c432ed",
   "metadata": {},
   "source": [
    "Open a text editor and create a new file. For example, let's create a file named script.py.\n",
    "\n",
    "In the text editor, write your Python code in the file. For example, let's write a simple \"Hello, World!\" script:\n",
    "print(\"Hello, World!\")\n",
    "\n",
    "Save the file with a .py extension. In this case, save it as script.py.\n",
    "\n",
    "Open the command line or terminal on your computer.\n",
    "\n",
    "Navigate to the directory where you saved the script.py file using the cd command. For example, if the file is saved on the desktop, you can navigate to the desktop directory using the following command (assuming you are using Windows):\n",
    "cd C:\\Users\\Kartik\\Desktop\n",
    "\n",
    "Once you are in the correct directory, you can run the Python script by typing python followed by the name of the script file. In this case, you would type:\n",
    "python script.py\n",
    "\n",
    "Press Enter to execute the command. The Python script will run, and the output will be displayed in the command line or terminal:\n",
    "Hello, World!"
   ]
  },
  {
   "cell_type": "code",
   "execution_count": null,
   "id": "6806d7b8-0372-448b-b7a5-a607b119c39e",
   "metadata": {},
   "outputs": [],
   "source": []
  },
  {
   "cell_type": "markdown",
   "id": "7b411edf-ea7a-4b7e-91b9-5a1ddf6cda1f",
   "metadata": {},
   "source": [
    "Q5. Given a list my_list = [1, 2, 3, 4, 5], write the code to slice the list and obtain the sub-list [2, 3]."
   ]
  },
  {
   "cell_type": "code",
   "execution_count": 24,
   "id": "aed257d6-acca-4602-92c2-b0dee518b0f1",
   "metadata": {},
   "outputs": [
    {
     "data": {
      "text/plain": [
       "[2, 3]"
      ]
     },
     "execution_count": 24,
     "metadata": {},
     "output_type": "execute_result"
    }
   ],
   "source": [
    "my_list = [1,2,3,4,5]\n",
    "\n",
    "my_list[1:3]"
   ]
  },
  {
   "cell_type": "code",
   "execution_count": null,
   "id": "ec7a5f9b-1ce8-411d-b58f-d10d91b7092e",
   "metadata": {},
   "outputs": [],
   "source": []
  },
  {
   "cell_type": "markdown",
   "id": "e8a1100f-efce-4f78-94e2-d53162108693",
   "metadata": {},
   "source": [
    "Q6. What is a complex number in mathematics, and how is it represented in Python?"
   ]
  },
  {
   "cell_type": "markdown",
   "id": "8e42ac4d-89ac-4374-9edd-37e3b892582e",
   "metadata": {},
   "source": [
    "Ans: In mathematics, a complex number is a number that comprises both a real part and an imaginary part.\n",
    "It is written in the form \"a + bi\".\n",
    "In Python, complex numbers are represented using the \"j\" suffix to denote the imaginary part."
   ]
  },
  {
   "cell_type": "code",
   "execution_count": 25,
   "id": "e7839842-e16e-4ef0-8057-59e399b91a23",
   "metadata": {},
   "outputs": [
    {
     "data": {
      "text/plain": [
       "(5+2j)"
      ]
     },
     "execution_count": 25,
     "metadata": {},
     "output_type": "execute_result"
    }
   ],
   "source": [
    "CN = 5+2j\n",
    "CN"
   ]
  },
  {
   "cell_type": "code",
   "execution_count": null,
   "id": "480da573-7a8f-468c-bc82-6c34ced8d5f5",
   "metadata": {},
   "outputs": [],
   "source": []
  },
  {
   "cell_type": "markdown",
   "id": "817eabcb-4078-4328-bff2-c3cbb3a7c654",
   "metadata": {},
   "source": [
    "Q7. What is the correct way to declare a variable named age and assign the value 25 to it?"
   ]
  },
  {
   "cell_type": "code",
   "execution_count": 28,
   "id": "bb98f98a-0725-4c98-b754-f8bda3bee27f",
   "metadata": {},
   "outputs": [
    {
     "data": {
      "text/plain": [
       "25"
      ]
     },
     "execution_count": 28,
     "metadata": {},
     "output_type": "execute_result"
    }
   ],
   "source": [
    "age = 25\n",
    "age"
   ]
  },
  {
   "cell_type": "code",
   "execution_count": null,
   "id": "74afb80c-9a4a-4e23-a59e-0c1b11ed6c4c",
   "metadata": {},
   "outputs": [],
   "source": []
  },
  {
   "cell_type": "markdown",
   "id": "232323ed-2c12-4a7d-a3b3-47a4d25f98bd",
   "metadata": {},
   "source": [
    "Q8. Declare a variable named price and assign the value 9.99 to it. What data type does this variable\n",
    "belong to?\n",
    "\n",
    "Ans: When we declare a variable named price and its value as 9.99 then the variable will belong to the float data-type."
   ]
  },
  {
   "cell_type": "code",
   "execution_count": 30,
   "id": "fc921a8e-bbf5-436b-a41d-6273862e28bf",
   "metadata": {},
   "outputs": [
    {
     "data": {
      "text/plain": [
       "float"
      ]
     },
     "execution_count": 30,
     "metadata": {},
     "output_type": "execute_result"
    }
   ],
   "source": [
    "age = 9.99\n",
    "type(age)"
   ]
  },
  {
   "cell_type": "code",
   "execution_count": null,
   "id": "d85b6d55-0afc-429d-b2dc-868f5827e248",
   "metadata": {},
   "outputs": [],
   "source": []
  },
  {
   "cell_type": "markdown",
   "id": "9040ca6f-6341-4aa7-bc60-7c3466932767",
   "metadata": {},
   "source": [
    "Q9. Create a variable named name and assign your full name to it as a string. How would you print the\n",
    "value of this variable?\n",
    "\n",
    "Ans: After declaring a variable named name and assigning its value as my name to print it we can use python function 'print()'."
   ]
  },
  {
   "cell_type": "code",
   "execution_count": 32,
   "id": "3741e1e7-75f0-468e-a769-391fde6306c9",
   "metadata": {},
   "outputs": [
    {
     "name": "stdout",
     "output_type": "stream",
     "text": [
      "Kartik Parsodkar\n"
     ]
    }
   ],
   "source": [
    "name = \"Kartik Parsodkar\"\n",
    "print(name)"
   ]
  },
  {
   "cell_type": "code",
   "execution_count": null,
   "id": "2744cdf1-7219-49d6-904e-c9d8e6f99b67",
   "metadata": {},
   "outputs": [],
   "source": []
  },
  {
   "cell_type": "markdown",
   "id": "821f73a5-abf2-4c57-a141-d0d642453080",
   "metadata": {},
   "source": [
    "Q10. Given the string \"Hello, World!\", extract the substring \"World\"."
   ]
  },
  {
   "cell_type": "code",
   "execution_count": 36,
   "id": "d836e8c8-9b63-431c-bf1f-30f88f00f057",
   "metadata": {},
   "outputs": [
    {
     "data": {
      "text/plain": [
       "'World'"
      ]
     },
     "execution_count": 36,
     "metadata": {},
     "output_type": "execute_result"
    }
   ],
   "source": [
    "str1 = \"Hello, World!\"\n",
    "\n",
    "str1[7:len(str1)-1]"
   ]
  },
  {
   "cell_type": "code",
   "execution_count": null,
   "id": "1207d190-c075-468d-bbec-d3540c42f496",
   "metadata": {},
   "outputs": [],
   "source": []
  },
  {
   "cell_type": "code",
   "execution_count": null,
   "id": "0227ecbb-2178-4b7f-9067-42b1654c8f74",
   "metadata": {},
   "outputs": [],
   "source": []
  }
 ],
 "metadata": {
  "kernelspec": {
   "display_name": "Python 3 (ipykernel)",
   "language": "python",
   "name": "python3"
  },
  "language_info": {
   "codemirror_mode": {
    "name": "ipython",
    "version": 3
   },
   "file_extension": ".py",
   "mimetype": "text/x-python",
   "name": "python",
   "nbconvert_exporter": "python",
   "pygments_lexer": "ipython3",
   "version": "3.10.8"
  }
 },
 "nbformat": 4,
 "nbformat_minor": 5
}
