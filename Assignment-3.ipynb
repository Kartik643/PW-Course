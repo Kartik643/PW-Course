{
 "cells": [
  {
   "cell_type": "markdown",
   "id": "d127e7e4-7d27-4fe9-8fca-3faf7919bacd",
   "metadata": {},
   "source": [
    "Q1. Which keyword is used to create a function? Create a function to return a list of odd numbers in the\n",
    "range of 1 to 25.\n",
    "\n",
    "Ans: We use 'def' keyword to create a function followed by function name."
   ]
  },
  {
   "cell_type": "code",
   "execution_count": 3,
   "id": "48a072bd-3afd-405f-81b3-1c4dda3b180a",
   "metadata": {},
   "outputs": [],
   "source": [
    "#Create a function to return a list of odd numbers in the range of 1 to 25.\n",
    "def odd():\n",
    "    l = []\n",
    "    for i in range(25):\n",
    "        if(i%2 != 0):\n",
    "            l.append(i)\n",
    "    return l        "
   ]
  },
  {
   "cell_type": "code",
   "execution_count": 5,
   "id": "2449a6b6-6b2d-437e-ab95-02d232d50ba5",
   "metadata": {},
   "outputs": [
    {
     "data": {
      "text/plain": [
       "[1, 3, 5, 7, 9, 11, 13, 15, 17, 19, 21, 23]"
      ]
     },
     "execution_count": 5,
     "metadata": {},
     "output_type": "execute_result"
    }
   ],
   "source": [
    "odd()"
   ]
  },
  {
   "cell_type": "code",
   "execution_count": null,
   "id": "707d902e-d285-46ed-881a-5abb792ca02f",
   "metadata": {},
   "outputs": [],
   "source": []
  },
  {
   "cell_type": "markdown",
   "id": "3b34a9bf-c285-4a5c-a023-2c48db06af10",
   "metadata": {},
   "source": [
    "Q2. Why *args and **kwargs is used in some functions? Create a function each for *args and **kwargs to\n",
    "demonstrate their use."
   ]
  },
  {
   "cell_type": "markdown",
   "id": "e95ce581-aef2-403b-acdc-77befc6592f2",
   "metadata": {},
   "source": [
    "*args is used to pass a variable number of non-keyworded arguments to a function. It allows us to pass any number of positional arguments, which are then accessible within the function as a tuple.\n",
    "**kwargs is used to pass a variable number of keyword arguments to a function. It allows us to pass any number of named arguments, which are then accessible within the function as a dictionary."
   ]
  },
  {
   "cell_type": "code",
   "execution_count": 7,
   "id": "341bb5d9-84fc-4c1a-b76d-9c7364c120cf",
   "metadata": {},
   "outputs": [],
   "source": [
    "#Code for * args\n",
    "def argg(*args):\n",
    "    for i in args:\n",
    "        print(i)"
   ]
  },
  {
   "cell_type": "code",
   "execution_count": 9,
   "id": "012bb454-e556-4972-ba15-233b082dfc11",
   "metadata": {},
   "outputs": [
    {
     "name": "stdout",
     "output_type": "stream",
     "text": [
      "1\n",
      "2\n",
      "3\n",
      "4\n",
      "5\n"
     ]
    }
   ],
   "source": [
    "argg(1,2,3,4,5)"
   ]
  },
  {
   "cell_type": "code",
   "execution_count": null,
   "id": "d51448c9-ed49-4363-9e71-3eeb41d4657e",
   "metadata": {},
   "outputs": [],
   "source": []
  },
  {
   "cell_type": "code",
   "execution_count": 15,
   "id": "ba2aef4d-aca6-4b28-9925-23990162ad35",
   "metadata": {},
   "outputs": [],
   "source": [
    "#code for **kwargs\n",
    "def kwargg(**kwargs):\n",
    "    for i, j in kwargs.items():\n",
    "        print(f\"{i}: {j}\")\n",
    "\n"
   ]
  },
  {
   "cell_type": "code",
   "execution_count": 17,
   "id": "16aaa9d2-5824-40e3-8dc4-d65d04d70bc2",
   "metadata": {},
   "outputs": [
    {
     "name": "stdout",
     "output_type": "stream",
     "text": [
      "name: kartik\n",
      "age: 20\n",
      "city: Pune\n"
     ]
    }
   ],
   "source": [
    "kwargg(name=\"kartik\", age=20, city=\"Pune\")"
   ]
  },
  {
   "cell_type": "code",
   "execution_count": null,
   "id": "77f5165e-88c5-4727-a024-30a87b49b2a2",
   "metadata": {},
   "outputs": [],
   "source": []
  },
  {
   "cell_type": "markdown",
   "id": "a12c0401-01e7-415a-9728-3375662c28f7",
   "metadata": {},
   "source": [
    "Q3. What is an iterator in python? Name the method used to initialise the iterator object and the method\n",
    "used for iteration. Use these methods to print the first five elements of the given list [2, 4, 6, 8, 10, 12, 14, 16,\n",
    "18, 20].\n",
    "\n",
    "Ans: In Python, an iterator is an object that implements the iterator protocol, which consists of two methods: __iter__() and __next__(). Iterators are used to iterate over elements in a sequence, such as lists, tuples, or custom objects, one element at a time.\n",
    "\n",
    "The __iter__() method is used to initialize the iterator object and returns the iterator itself. It is typically implemented to return the object itself, as most iterable objects are also their own iterators.\n",
    "\n",
    "The __next__() method is used for iteration and returns the next element from the sequence. It raises a StopIteration exception when there are no more elements to iterate over."
   ]
  },
  {
   "cell_type": "code",
   "execution_count": 18,
   "id": "85c196b0-8c8b-4b81-b034-ec6234bc74ad",
   "metadata": {},
   "outputs": [
    {
     "name": "stdout",
     "output_type": "stream",
     "text": [
      "2\n",
      "4\n",
      "6\n",
      "8\n",
      "10\n"
     ]
    }
   ],
   "source": [
    "my_list = [2, 4, 6, 8, 10, 12, 14, 16, 18, 20]\n",
    "\n",
    "my_iterator = iter(my_list)\n",
    "\n",
    "for _ in range(5):\n",
    "    element = next(my_iterator)\n",
    "    print(element)"
   ]
  },
  {
   "cell_type": "code",
   "execution_count": null,
   "id": "58a4d627-a606-46fb-a8ce-a0f52b98ff0f",
   "metadata": {},
   "outputs": [],
   "source": []
  },
  {
   "cell_type": "markdown",
   "id": "ce785f14-dd37-416b-aa53-e36cf8f487c8",
   "metadata": {},
   "source": [
    "Q4. What is a generator function in python? Why yield keyword is used? Give an example of a generator\n",
    "function.\n",
    "\n",
    "Ans: In Python, a generator function is a special type of function that returns an iterator object, which can be iterated over to retrieve values one at a time. Unlike regular functions that use the return statement to return a value and terminate, generator functions use the yield keyword to yield a value temporarily, allowing the function to be resumed from where it left off on the next iteration.\n",
    "\n",
    "The yield keyword is used in generator functions to define points at which the function should pause and yield a value to the caller. When a value is yielded, the function's state is saved, and the control is transferred back to the caller. The next time the generator's iterator is called, it resumes execution from the point where it left off and continues until the next yield statement is encountered."
   ]
  },
  {
   "cell_type": "code",
   "execution_count": 30,
   "id": "01b156d6-b019-4aa2-a6c9-0ab0861642ef",
   "metadata": {},
   "outputs": [],
   "source": [
    " def fib(n):\n",
    "    a,b = 0,1\n",
    "    for i in range(n):\n",
    "        yield a\n",
    "        a,b = b, a+b"
   ]
  },
  {
   "cell_type": "code",
   "execution_count": 32,
   "id": "239c7e6b-615b-4b13-a54f-4e8e18cfcf84",
   "metadata": {},
   "outputs": [
    {
     "name": "stdout",
     "output_type": "stream",
     "text": [
      "0\n",
      "1\n",
      "1\n",
      "2\n",
      "3\n"
     ]
    }
   ],
   "source": [
    "for i in fib(5):\n",
    "    print(i)"
   ]
  },
  {
   "cell_type": "code",
   "execution_count": null,
   "id": "1dadae7a-5d76-4330-807c-34a1a2707f06",
   "metadata": {},
   "outputs": [],
   "source": []
  },
  {
   "cell_type": "markdown",
   "id": "788ad357-b6f8-42b8-9a00-fffdb380a965",
   "metadata": {},
   "source": [
    "Q5. Create a generator function for prime numbers less than 1000. Use the next() method to print the\n",
    "first 20 prime numbers."
   ]
  },
  {
   "cell_type": "code",
   "execution_count": 34,
   "id": "19b20891-c025-4f9a-adbc-e1df9c99f20a",
   "metadata": {},
   "outputs": [],
   "source": [
    "def prime(n):\n",
    "    primes = []\n",
    "    n = 2\n",
    "    while True:\n",
    "        isPrime = True\n",
    "        for i in primes:\n",
    "            if n % primes == 0:\n",
    "                isPrime = False\n",
    "                break\n",
    "            if i*primes > n:\n",
    "                break\n",
    "                \n",
    "        if is_prime:\n",
    "            primes.append(num)\n",
    "            yield num\n",
    "        num += 1        "
   ]
  },
  {
   "cell_type": "code",
   "execution_count": 36,
   "id": "b307559c-37bb-4e7b-aca4-28d1ea0f975a",
   "metadata": {},
   "outputs": [
    {
     "ename": "NameError",
     "evalue": "name 'prime_gen' is not defined",
     "output_type": "error",
     "traceback": [
      "\u001b[0;31m---------------------------------------------------------------------------\u001b[0m",
      "\u001b[0;31mNameError\u001b[0m                                 Traceback (most recent call last)",
      "Cell \u001b[0;32mIn[38], line 2\u001b[0m\n\u001b[1;32m      1\u001b[0m \u001b[38;5;28;01mfor\u001b[39;00m i \u001b[38;5;129;01min\u001b[39;00m \u001b[38;5;28mrange\u001b[39m(\u001b[38;5;241m20\u001b[39m):\n\u001b[0;32m----> 2\u001b[0m     prime_num \u001b[38;5;241m=\u001b[39m \u001b[38;5;28mnext\u001b[39m(\u001b[43mprime_gen\u001b[49m)\n\u001b[1;32m      3\u001b[0m     \u001b[38;5;28mprint\u001b[39m(i)\n",
      "\u001b[0;31mNameError\u001b[0m: name 'prime_gen' is not defined"
     ]
    }
   ],
   "source": [
    "for i in prime(1000):\n",
    "    prime_num = next(prime)\n",
    "    print(prime)"
   ]
  }
 ],
 "metadata": {
  "kernelspec": {
   "display_name": "Python 3 (ipykernel)",
   "language": "python",
   "name": "python3"
  },
  "language_info": {
   "codemirror_mode": {
    "name": "ipython",
    "version": 3
   },
   "file_extension": ".py",
   "mimetype": "text/x-python",
   "name": "python",
   "nbconvert_exporter": "python",
   "pygments_lexer": "ipython3",
   "version": "3.10.8"
  }
 },
 "nbformat": 4,
 "nbformat_minor": 5
}
