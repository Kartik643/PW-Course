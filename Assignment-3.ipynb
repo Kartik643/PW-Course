{
 "cells": [
  {
   "cell_type": "markdown",
   "id": "d127e7e4-7d27-4fe9-8fca-3faf7919bacd",
   "metadata": {},
   "source": [
    "Q1. Which keyword is used to create a function? Create a function to return a list of odd numbers in the\n",
    "range of 1 to 25.\n",
    "\n",
    "Ans: We use 'def' keyword to create a function followed by function name."
   ]
  },
  {
   "cell_type": "code",
   "execution_count": 3,
   "id": "48a072bd-3afd-405f-81b3-1c4dda3b180a",
   "metadata": {},
   "outputs": [],
   "source": [
    "#Create a function to return a list of odd numbers in the range of 1 to 25.\n",
    "def odd():\n",
    "    l = []\n",
    "    for i in range(25):\n",
    "        if(i%2 != 0):\n",
    "            l.append(i)\n",
    "    return l        "
   ]
  },
  {
   "cell_type": "code",
   "execution_count": 5,
   "id": "2449a6b6-6b2d-437e-ab95-02d232d50ba5",
   "metadata": {},
   "outputs": [
    {
     "data": {
      "text/plain": [
       "[1, 3, 5, 7, 9, 11, 13, 15, 17, 19, 21, 23]"
      ]
     },
     "execution_count": 5,
     "metadata": {},
     "output_type": "execute_result"
    }
   ],
   "source": [
    "odd()"
   ]
  },
  {
   "cell_type": "code",
   "execution_count": null,
   "id": "707d902e-d285-46ed-881a-5abb792ca02f",
   "metadata": {},
   "outputs": [],
   "source": []
  },
  {
   "cell_type": "markdown",
   "id": "3b34a9bf-c285-4a5c-a023-2c48db06af10",
   "metadata": {},
   "source": [
    "Q2. Why *args and **kwargs is used in some functions? Create a function each for *args and **kwargs to\n",
    "demonstrate their use."
   ]
  },
  {
   "cell_type": "markdown",
   "id": "e95ce581-aef2-403b-acdc-77befc6592f2",
   "metadata": {},
   "source": [
    "*args is used to pass a variable number of non-keyworded arguments to a function. It allows us to pass any number of positional arguments, which are then accessible within the function as a tuple.\n",
    "**kwargs is used to pass a variable number of keyword arguments to a function. It allows us to pass any number of named arguments, which are then accessible within the function as a dictionary."
   ]
  },
  {
   "cell_type": "code",
   "execution_count": 7,
   "id": "341bb5d9-84fc-4c1a-b76d-9c7364c120cf",
   "metadata": {},
   "outputs": [],
   "source": [
    "#Code for * args\n",
    "def argg(*args):\n",
    "    for i in args:\n",
    "        print(i)"
   ]
  },
  {
   "cell_type": "code",
   "execution_count": 9,
   "id": "012bb454-e556-4972-ba15-233b082dfc11",
   "metadata": {},
   "outputs": [
    {
     "name": "stdout",
     "output_type": "stream",
     "text": [
      "1\n",
      "2\n",
      "3\n",
      "4\n",
      "5\n"
     ]
    }
   ],
   "source": [
    "argg(1,2,3,4,5)"
   ]
  },
  {
   "cell_type": "code",
   "execution_count": null,
   "id": "d51448c9-ed49-4363-9e71-3eeb41d4657e",
   "metadata": {},
   "outputs": [],
   "source": []
  },
  {
   "cell_type": "code",
   "execution_count": 15,
   "id": "ba2aef4d-aca6-4b28-9925-23990162ad35",
   "metadata": {},
   "outputs": [],
   "source": [
    "#code for **kwargs\n",
    "def kwargg(**kwargs):\n",
    "    for i, j in kwargs.items():\n",
    "        print(f\"{i}: {j}\")\n",
    "\n"
   ]
  },
  {
   "cell_type": "code",
   "execution_count": 17,
   "id": "16aaa9d2-5824-40e3-8dc4-d65d04d70bc2",
   "metadata": {},
   "outputs": [
    {
     "name": "stdout",
     "output_type": "stream",
     "text": [
      "name: kartik\n",
      "age: 20\n",
      "city: Pune\n"
     ]
    }
   ],
   "source": [
    "kwargg(name=\"kartik\", age=20, city=\"Pune\")"
   ]
  },
  {
   "cell_type": "code",
   "execution_count": null,
   "id": "77f5165e-88c5-4727-a024-30a87b49b2a2",
   "metadata": {},
   "outputs": [],
   "source": []
  },
  {
   "cell_type": "markdown",
   "id": "a12c0401-01e7-415a-9728-3375662c28f7",
   "metadata": {},
   "source": [
    "Q3. What is an iterator in python? Name the method used to initialise the iterator object and the method\n",
    "used for iteration. Use these methods to print the first five elements of the given list [2, 4, 6, 8, 10, 12, 14, 16,\n",
    "18, 20].\n",
    "\n",
    "Ans: In Python, an iterator is an object that implements the iterator protocol, which consists of two methods: __iter__() and __next__(). Iterators are used to iterate over elements in a sequence, such as lists, tuples, or custom objects, one element at a time.\n",
    "\n",
    "The __iter__() method is used to initialize the iterator object and returns the iterator itself. It is typically implemented to return the object itself, as most iterable objects are also their own iterators.\n",
    "\n",
    "The __next__() method is used for iteration and returns the next element from the sequence. It raises a StopIteration exception when there are no more elements to iterate over."
   ]
  },
  {
   "cell_type": "code",
   "execution_count": 18,
   "id": "85c196b0-8c8b-4b81-b034-ec6234bc74ad",
   "metadata": {},
   "outputs": [
    {
     "name": "stdout",
     "output_type": "stream",
     "text": [
      "2\n",
      "4\n",
      "6\n",
      "8\n",
      "10\n"
     ]
    }
   ],
   "source": [
    "my_list = [2, 4, 6, 8, 10, 12, 14, 16, 18, 20]\n",
    "\n",
    "my_iterator = iter(my_list)\n",
    "\n",
    "for _ in range(5):\n",
    "    element = next(my_iterator)\n",
    "    print(element)"
   ]
  },
  {
   "cell_type": "code",
   "execution_count": null,
   "id": "58a4d627-a606-46fb-a8ce-a0f52b98ff0f",
   "metadata": {},
   "outputs": [],
   "source": []
  },
  {
   "cell_type": "markdown",
   "id": "ce785f14-dd37-416b-aa53-e36cf8f487c8",
   "metadata": {},
   "source": [
    "Q4. What is a generator function in python? Why yield keyword is used? Give an example of a generator\n",
    "function.\n",
    "\n",
    "Ans: In Python, a generator function is a special type of function that returns an iterator object, which can be iterated over to retrieve values one at a time. Unlike regular functions that use the return statement to return a value and terminate, generator functions use the yield keyword to yield a value temporarily, allowing the function to be resumed from where it left off on the next iteration.\n",
    "\n",
    "The yield keyword is used in generator functions to define points at which the function should pause and yield a value to the caller. When a value is yielded, the function's state is saved, and the control is transferred back to the caller. The next time the generator's iterator is called, it resumes execution from the point where it left off and continues until the next yield statement is encountered."
   ]
  },
  {
   "cell_type": "code",
   "execution_count": 30,
   "id": "01b156d6-b019-4aa2-a6c9-0ab0861642ef",
   "metadata": {},
   "outputs": [],
   "source": [
    " def fib(n):\n",
    "    a,b = 0,1\n",
    "    for i in range(n):\n",
    "        yield a\n",
    "        a,b = b, a+b"
   ]
  },
  {
   "cell_type": "code",
   "execution_count": 32,
   "id": "239c7e6b-615b-4b13-a54f-4e8e18cfcf84",
   "metadata": {},
   "outputs": [
    {
     "name": "stdout",
     "output_type": "stream",
     "text": [
      "0\n",
      "1\n",
      "1\n",
      "2\n",
      "3\n"
     ]
    }
   ],
   "source": [
    "for i in fib(5):\n",
    "    print(i)"
   ]
  },
  {
   "cell_type": "code",
   "execution_count": null,
   "id": "1dadae7a-5d76-4330-807c-34a1a2707f06",
   "metadata": {},
   "outputs": [],
   "source": []
  },
  {
   "cell_type": "markdown",
   "id": "788ad357-b6f8-42b8-9a00-fffdb380a965",
   "metadata": {},
   "source": [
    "Q5. Create a generator function for prime numbers less than 1000. Use the next() method to print the\n",
    "first 20 prime numbers."
   ]
  },
  {
   "cell_type": "code",
   "execution_count": 43,
   "id": "19b20891-c025-4f9a-adbc-e1df9c99f20a",
   "metadata": {},
   "outputs": [],
   "source": [
    "def prime_generator():\n",
    "    primes = []\n",
    "    num = 2\n",
    "    while True:\n",
    "        is_prime = True\n",
    "        for prime in primes:\n",
    "            if num % prime == 0:\n",
    "                is_prime = False\n",
    "                break\n",
    "            if prime * prime > num:\n",
    "                break\n",
    "        if is_prime:\n",
    "            primes.append(num)\n",
    "            yield num\n",
    "        num += 1"
   ]
  },
  {
   "cell_type": "code",
   "execution_count": 50,
   "id": "b307559c-37bb-4e7b-aca4-28d1ea0f975a",
   "metadata": {},
   "outputs": [
    {
     "name": "stdout",
     "output_type": "stream",
     "text": [
      "2\n",
      "3\n",
      "5\n",
      "7\n",
      "11\n",
      "13\n",
      "17\n",
      "19\n",
      "23\n",
      "29\n",
      "31\n",
      "37\n",
      "41\n",
      "43\n",
      "47\n",
      "53\n",
      "59\n",
      "61\n",
      "67\n",
      "71\n",
      "73\n",
      "79\n",
      "83\n",
      "89\n",
      "97\n",
      "101\n",
      "103\n",
      "107\n",
      "109\n",
      "113\n",
      "127\n",
      "131\n",
      "137\n",
      "139\n",
      "149\n",
      "151\n",
      "157\n",
      "163\n",
      "167\n",
      "173\n",
      "179\n",
      "181\n",
      "191\n",
      "193\n",
      "197\n",
      "199\n",
      "211\n",
      "223\n",
      "227\n",
      "229\n",
      "233\n",
      "239\n",
      "241\n",
      "251\n",
      "257\n",
      "263\n",
      "269\n",
      "271\n",
      "277\n",
      "281\n",
      "283\n",
      "293\n",
      "307\n",
      "311\n",
      "313\n",
      "317\n",
      "331\n",
      "337\n",
      "347\n",
      "349\n",
      "353\n",
      "359\n",
      "367\n",
      "373\n",
      "379\n",
      "383\n",
      "389\n",
      "397\n",
      "401\n",
      "409\n",
      "419\n",
      "421\n",
      "431\n",
      "433\n",
      "439\n",
      "443\n",
      "449\n",
      "457\n",
      "461\n",
      "463\n",
      "467\n",
      "479\n",
      "487\n",
      "491\n",
      "499\n",
      "503\n",
      "509\n",
      "521\n",
      "523\n",
      "541\n"
     ]
    }
   ],
   "source": [
    "prime_gen = prime_generator()\n",
    "\n",
    "for _ in range(0,100):\n",
    "    prime_num = next(prime_gen)\n",
    "    print(prime_num)\n"
   ]
  }
 ],
 "metadata": {
  "kernelspec": {
   "display_name": "Python 3 (ipykernel)",
   "language": "python",
   "name": "python3"
  },
  "language_info": {
   "codemirror_mode": {
    "name": "ipython",
    "version": 3
   },
   "file_extension": ".py",
   "mimetype": "text/x-python",
   "name": "python",
   "nbconvert_exporter": "python",
   "pygments_lexer": "ipython3",
   "version": "3.10.8"
  }
 },
 "nbformat": 4,
 "nbformat_minor": 5
}
